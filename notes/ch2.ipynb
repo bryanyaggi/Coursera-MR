{
 "cells": [
  {
   "cell_type": "markdown",
   "metadata": {},
   "source": [
    "# Chapter 2: Configuration Space"
   ]
  },
  {
   "cell_type": "markdown",
   "metadata": {},
   "source": [
    "### Types of Robot Joints\n",
    "\n",
    "![Figure 2.3](images/fig2.3.png)\n",
    "\n",
    "![Table 2.1](images/tab2.1.png)"
   ]
  },
  {
   "cell_type": "markdown",
   "metadata": {},
   "source": [
    "### Grubler's Formula\n",
    "\n",
    "Given number of links, $N$, number of joints, $J$, degrees of freedom of joint $i$, $f_i$, and constraints on joint $i$, $c_i$.\n",
    "\n",
    "$$\n",
    "\\begin{align*}\n",
    "    \\text{dof} &= m(N - 1) - \\sum^{J}_{i=1}c_i \\\\\n",
    "    \\text{dof} &= m(N - 1 - J) + \\sum^{J}_{i=1}f_i\n",
    "\\end{align*}\n",
    "$$\n",
    "\n",
    "Note: The formula holds only if all joint constraints are independent."
   ]
  },
  {
   "cell_type": "markdown",
   "metadata": {},
   "source": [
    "### Configuration Space\n",
    "\n"
   ]
  },
  {
   "cell_type": "code",
   "execution_count": null,
   "metadata": {},
   "outputs": [],
   "source": []
  }
 ],
 "metadata": {
  "kernelspec": {
   "display_name": "Python 3",
   "language": "python",
   "name": "python3"
  },
  "language_info": {
   "codemirror_mode": {
    "name": "ipython",
    "version": 3
   },
   "file_extension": ".py",
   "mimetype": "text/x-python",
   "name": "python",
   "nbconvert_exporter": "python",
   "pygments_lexer": "ipython3",
   "version": "3.5.2"
  }
 },
 "nbformat": 4,
 "nbformat_minor": 2
}
